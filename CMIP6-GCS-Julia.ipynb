{
 "cells": [
  {
   "cell_type": "code",
   "execution_count": 1,
   "metadata": {},
   "outputs": [],
   "source": [
    "using Zarr, AWSCore\n",
    "using DataFrames, CSV"
   ]
  },
  {
   "cell_type": "code",
   "execution_count": 2,
   "metadata": {},
   "outputs": [
    {
     "data": {
      "text/plain": [
       "Dict{Symbol,Any} with 4 entries:\n",
       "  :service_name => \"storage\"\n",
       "  :service_host => \"googleapis.com\"\n",
       "  :creds        => nothing\n",
       "  :region       => \"\""
      ]
     },
     "execution_count": 2,
     "metadata": {},
     "output_type": "execute_result"
    }
   ],
   "source": [
    "aws_google = AWSCore.aws_config(creds=nothing, region=\"\", service_host=\"googleapis.com\", service_name=\"storage\")"
   ]
  },
  {
   "cell_type": "code",
   "execution_count": null,
   "metadata": {},
   "outputs": [],
   "source": [
    "# hangs forever, never completes\n",
    "cmip6_base = S3Store(\"cmip6\",\"\", aws=aws_google, listversion=1)\n",
    "keys(cmip6_base)"
   ]
  },
  {
   "cell_type": "code",
   "execution_count": null,
   "metadata": {},
   "outputs": [],
   "source": [
    "# hangs forever, never completes\n",
    "csv_file = S3Store(\"cmip6\", \"cmip6-zarr-consolidated-stores.csv\", aws=aws_google, listversion=1)\n",
    "overview = CSV.read(IOBuffer(csv_file)"
   ]
  },
  {
   "cell_type": "code",
   "execution_count": null,
   "metadata": {},
   "outputs": [],
   "source": [
    "# hangs forever, never completes\n",
    "s = S3Store(\"cmip6\",\"ScenarioMIP/DKRZ/MPI-ESM1-2-HR/ssp585/r1i1p1f1/Amon/tas/gn/\", aws=aws_google, listversion=1)\n",
    "g = zopen(s)"
   ]
  }
 ],
 "metadata": {
  "kernelspec": {
   "display_name": "Julia 1.3.0",
   "language": "julia",
   "name": "julia-1.3"
  },
  "language_info": {
   "file_extension": ".jl",
   "mimetype": "application/julia",
   "name": "julia",
   "version": "1.3.0"
  }
 },
 "nbformat": 4,
 "nbformat_minor": 2
}
